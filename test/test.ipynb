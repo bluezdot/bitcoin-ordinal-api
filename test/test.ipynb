{
 "cells": [
  {
   "cell_type": "markdown",
   "metadata": {},
   "source": [
    "# API Status"
   ]
  },
  {
   "cell_type": "code",
   "execution_count": 13,
   "metadata": {},
   "outputs": [],
   "source": [
    "import requests"
   ]
  },
  {
   "cell_type": "code",
   "execution_count": null,
   "metadata": {},
   "outputs": [],
   "source": [
    "url = \"https://api.hiro.so/ordinals/v1/\"\n",
    "payload = {}\n",
    "headers = {\n",
    "  'Accept': 'application/json'\n",
    "}\n",
    "response = requests.request(\"GET\", url, headers=headers, data=payload)\n",
    "print(response.text)"
   ]
  },
  {
   "cell_type": "markdown",
   "metadata": {},
   "source": [
    "# List of Inscriptions"
   ]
  },
  {
   "cell_type": "code",
   "execution_count": null,
   "metadata": {},
   "outputs": [],
   "source": [
    "import requests\n",
    "\n",
    "url = \"https://api.hiro.so/ordinals/v1/inscriptions\"\n",
    "\n",
    "payload = {}\n",
    "headers = {\n",
    "  'Accept': 'application/json'\n",
    "}\n",
    "response = requests.request(\"GET\", url, headers=headers, data=payload)\n",
    "# 49499418\n",
    "# Save reponse in json file\n",
    "with open('response.json', 'w') as f:\n",
    "    f.write(response.text)\n",
    "print(response.text)"
   ]
  },
  {
   "cell_type": "markdown",
   "metadata": {},
   "source": [
    "# Transfer per block"
   ]
  },
  {
   "cell_type": "code",
   "execution_count": null,
   "metadata": {},
   "outputs": [],
   "source": [
    "import requests\n",
    "\n",
    "url = \"https://api.hiro.so/ordinals/v1/inscriptions/transfers?block=797979\"\n",
    "\n",
    "payload = {}\n",
    "headers = {\n",
    "  'Accept': 'application/json'\n",
    "}\n",
    "\n",
    "response = requests.request(\"GET\", url, headers=headers, data=payload)\n",
    "print(response.text)"
   ]
  },
  {
   "cell_type": "markdown",
   "metadata": {},
   "source": [
    "Inscription count per/block"
   ]
  },
  {
   "cell_type": "code",
   "execution_count": 11,
   "metadata": {},
   "outputs": [],
   "source": [
    "import requests\n",
    "\n",
    "\n",
    "# url = \"https://api.hiro.so/ordinals/v1/stats/inscriptions?from_block_height=797979&to_block_height=800000\"\n",
    "url = \"https://api.hiro.so/ordinals/v1/inscriptions\"\n",
    "\n",
    "payload = {}\n",
    "headers = {\n",
    "  'Accept': 'application/json'\n",
    "}\n",
    "\n",
    "\n",
    "response = requests.request(\"GET\", url, headers=headers, data=payload)\n",
    "\n",
    "a = response.to_json()\n",
    "print(a)\n",
    "\n",
    "\n"
   ]
  },
  {
   "cell_type": "code",
   "execution_count": 36,
   "metadata": {},
   "outputs": [
    {
     "name": "stdout",
     "output_type": "stream",
     "text": [
      "{\"limit\":50,\"offset\":150,\"total\":22,\"results\":[]}\n"
     ]
    }
   ],
   "source": [
    "import requests\n",
    "\n",
    "\n",
    "url = \"https://api.hiro.so/ordinals/v1/inscriptions?address=bc1q8cpn3zl6lz5xrxdqgx7j68ggcpjm7ctzyds82c&limit=50&offset=150\"\n",
    "url = 'https://api.hiro.so/ordinals/v1/inscriptions?' HIRO_APIs.list_of_incriptions + `?${address}&limit=${pageSize}&offset=${offset}\n",
    "\n",
    "payload = {}\n",
    "headers = {\n",
    "  'Accept': 'application/json'\n",
    "}\n",
    "\n",
    "\n",
    "response = requests.request(\"GET\", url, headers=headers, data=payload)\n",
    "\n",
    "\n",
    "print(response.text)\n",
    "\n",
    "\n"
   ]
  },
  {
   "cell_type": "markdown",
   "metadata": {},
   "source": [
    "650d1b566752edf27235b24bc203bc679073eb2bf7ee52c4d110a053893ec53ci0\n",
    "05ac6c3cc5e70de8989f7d25483ca65de115a36d1243ac5b65fcc7f5df421091i0\n",
    "dd534acf9a2ccbd5d052a151dc30ce6e1ca8470e0634d1fce267b2ed0d5a0415i0"
   ]
  },
  {
   "cell_type": "code",
   "execution_count": 22,
   "metadata": {},
   "outputs": [
    {
     "name": "stdout",
     "output_type": "stream",
     "text": [
      "<Response [200]>\n"
     ]
    }
   ],
   "source": [
    "import requests\n",
    "\n",
    "\n",
    "url = \"https://api.hiro.so/ordinals/v1/inscriptions/74a0ae52309aa684b00faf7548e8804842d5736b09251df4599dc8c62c8e66fai0/content\"\n",
    "\n",
    "\n",
    "payload = {}\n",
    "headers = {\n",
    "  'Accept': 'application/json'\n",
    "}\n",
    "\n",
    "response = requests.request(\"GET\", url, headers=headers, data=payload)\n",
    "\n",
    "\n",
    "print(response)\n"
   ]
  },
  {
   "cell_type": "code",
   "execution_count": null,
   "metadata": {},
   "outputs": [],
   "source": []
  }
 ],
 "metadata": {
  "kernelspec": {
   "display_name": "Python 3",
   "language": "python",
   "name": "python3"
  },
  "language_info": {
   "codemirror_mode": {
    "name": "ipython",
    "version": 3
   },
   "file_extension": ".py",
   "mimetype": "text/x-python",
   "name": "python",
   "nbconvert_exporter": "python",
   "pygments_lexer": "ipython3",
   "version": "3.11.0"
  }
 },
 "nbformat": 4,
 "nbformat_minor": 2
}
